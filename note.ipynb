{
 "cells": [
  {
   "cell_type": "code",
   "execution_count": 1,
   "metadata": {},
   "outputs": [
    {
     "name": "stderr",
     "output_type": "stream",
     "text": [
      "/Users/jaeminiman/anaconda3/envs/pytorch/lib/python3.11/site-packages/pandas/core/arrays/masked.py:60: UserWarning: Pandas requires version '1.3.6' or newer of 'bottleneck' (version '1.3.5' currently installed).\n",
      "  from pandas.core import (\n"
     ]
    }
   ],
   "source": [
    "import os\n",
    "import requests\n",
    "import numpy as np\n",
    "import pandas as pd"
   ]
  },
  {
   "cell_type": "markdown",
   "metadata": {},
   "source": [
    "## 한국은행 Open API 서비스"
   ]
  },
  {
   "cell_type": "markdown",
   "metadata": {},
   "source": [
    "#### 100대 통계지표"
   ]
  },
  {
   "cell_type": "code",
   "execution_count": 25,
   "metadata": {},
   "outputs": [],
   "source": [
    "url = 'https://ecos.bok.or.kr/api/KeyStatisticList/HLOXWJTZRBR3KCAG5JU3/json/kr/1/101'\n"
   ]
  },
  {
   "cell_type": "code",
   "execution_count": 26,
   "metadata": {},
   "outputs": [
    {
     "name": "stdout",
     "output_type": "stream",
     "text": [
      "{'KeyStatisticList': {'list_total_count': 101, 'row_count': 101, 'row': [{'CLASS_NAME': '시장금리', 'KEYSTAT_NAME': '한국은행 기준금리', 'DATA_VALUE': '3', 'CYCLE': '20250102', 'UNIT_NAME': '% '}, {'CLASS_NAME': '시장금리', 'KEYSTAT_NAME': '콜금리(익일물)', 'DATA_VALUE': '3.029', 'CYCLE': '20250102', 'UNIT_NAME': '% '}, {'CLASS_NAME': '시장금리', 'KEYSTAT_NAME': 'KORIBOR(3개월)', 'DATA_VALUE': '3.27', 'CYCLE': '20250103', 'UNIT_NAME': '% '}, {'CLASS_NAME': '시장금리', 'KEYSTAT_NAME': 'CD수익률(91일)', 'DATA_VALUE': '3.15', 'CYCLE': '20250103', 'UNIT_NAME': '% '}, {'CLASS_NAME': '시장금리', 'KEYSTAT_NAME': '통안증권수익률(364일)', 'DATA_VALUE': '2.646', 'CYCLE': '20250103', 'UNIT_NAME': '% '}, {'CLASS_NAME': '시장금리', 'KEYSTAT_NAME': '국고채수익률(3년)', 'DATA_VALUE': '2.482', 'CYCLE': '20250103', 'UNIT_NAME': '% '}, {'CLASS_NAME': '시장금리', 'KEYSTAT_NAME': '국고채수익률(5년)', 'DATA_VALUE': '2.643', 'CYCLE': '20250103', 'UNIT_NAME': '% '}, {'CLASS_NAME': '시장금리', 'KEYSTAT_NAME': '회사채수익률(3년,AA-)', 'DATA_VALUE': '3.17', 'CYCLE': '20250103', 'UNIT_NAME': '% '}, {'CLASS_NAME': '여수신금리', 'KEYSTAT_NAME': '예금은행 수신금리', 'DATA_VALUE': '3.35', 'CYCLE': '202411', 'UNIT_NAME': '% '}, {'CLASS_NAME': '여수신금리', 'KEYSTAT_NAME': '예금은행 대출금리', 'DATA_VALUE': '4.76', 'CYCLE': '202411', 'UNIT_NAME': '% '}, {'CLASS_NAME': '예금/대출금', 'KEYSTAT_NAME': '예금은행총예금(말잔)', 'DATA_VALUE': '2072068.2', 'CYCLE': '202410', 'UNIT_NAME': '십억원 '}, {'CLASS_NAME': '예금/대출금', 'KEYSTAT_NAME': '예금은행대출금(말잔)', 'DATA_VALUE': '2393352.9', 'CYCLE': '202410', 'UNIT_NAME': '십억원 '}, {'CLASS_NAME': '예금/대출금', 'KEYSTAT_NAME': '가계신용', 'DATA_VALUE': '1913814.3', 'CYCLE': '2024Q3', 'UNIT_NAME': '십억원 '}, {'CLASS_NAME': '예금/대출금', 'KEYSTAT_NAME': '가계대출연체율', 'DATA_VALUE': '0.4', 'CYCLE': '202410', 'UNIT_NAME': '% '}, {'CLASS_NAME': '통화량', 'KEYSTAT_NAME': 'M1(협의통화, 평잔)', 'DATA_VALUE': '1232382.7', 'CYCLE': '202410', 'UNIT_NAME': '십억원 '}, {'CLASS_NAME': '통화량', 'KEYSTAT_NAME': 'M2(광의통화, 평잔)', 'DATA_VALUE': '4109740.1', 'CYCLE': '202410', 'UNIT_NAME': '십억원 '}, {'CLASS_NAME': '통화량', 'KEYSTAT_NAME': 'Lf(평잔)', 'DATA_VALUE': '5591244', 'CYCLE': '202410', 'UNIT_NAME': '십억원 '}, {'CLASS_NAME': '통화량', 'KEYSTAT_NAME': 'L(말잔)', 'DATA_VALUE': '7044274', 'CYCLE': '202410', 'UNIT_NAME': '십억원 '}, {'CLASS_NAME': '환율', 'KEYSTAT_NAME': '원/달러 환율(종가)', 'DATA_VALUE': '1468.4', 'CYCLE': '20250103', 'UNIT_NAME': '원 '}, {'CLASS_NAME': '환율', 'KEYSTAT_NAME': '원/엔(100엔) 환율(매매기준율)', 'DATA_VALUE': '932.19', 'CYCLE': '20250103', 'UNIT_NAME': '원 '}, {'CLASS_NAME': '환율', 'KEYSTAT_NAME': '원/유로 환율(매매기준율)', 'DATA_VALUE': '1507.43', 'CYCLE': '20250103', 'UNIT_NAME': '원 '}, {'CLASS_NAME': '환율', 'KEYSTAT_NAME': '원/위안 환율(종가)', 'DATA_VALUE': '200.1', 'CYCLE': '20250103', 'UNIT_NAME': '원 '}, {'CLASS_NAME': '주식', 'KEYSTAT_NAME': '코스피지수', 'DATA_VALUE': '2441.92', 'CYCLE': '20250103', 'UNIT_NAME': '1980.01.04=100 '}, {'CLASS_NAME': '주식', 'KEYSTAT_NAME': '코스닥지수', 'DATA_VALUE': '705.76', 'CYCLE': '20250103', 'UNIT_NAME': '1996.07.01=1000'}, {'CLASS_NAME': '주식', 'KEYSTAT_NAME': '주식거래대금(KOSPI)', 'DATA_VALUE': '208.3', 'CYCLE': '202411', 'UNIT_NAME': '조원'}, {'CLASS_NAME': '주식', 'KEYSTAT_NAME': '투자자예탁금', 'DATA_VALUE': '52.3', 'CYCLE': '202411', 'UNIT_NAME': '조원'}, {'CLASS_NAME': '채권', 'KEYSTAT_NAME': '채권거래대금', 'DATA_VALUE': '107.7', 'CYCLE': '202411', 'UNIT_NAME': '조원'}, {'CLASS_NAME': '채권', 'KEYSTAT_NAME': '국고채발행액', 'DATA_VALUE': '10987', 'CYCLE': '202410', 'UNIT_NAME': '십억원 '}, {'CLASS_NAME': '성장률', 'KEYSTAT_NAME': '경제성장률(실질, 계절조정 전기대비)', 'DATA_VALUE': '0.1', 'CYCLE': '2024Q3', 'UNIT_NAME': '% '}, {'CLASS_NAME': '성장률', 'KEYSTAT_NAME': '민간소비증감률(실질, 계절조정 전기대비)', 'DATA_VALUE': '0.5', 'CYCLE': '2024Q3', 'UNIT_NAME': '% '}, {'CLASS_NAME': '성장률', 'KEYSTAT_NAME': '설비투자증감률(실질, 계절조정 전기대비)', 'DATA_VALUE': '6.5', 'CYCLE': '2024Q3', 'UNIT_NAME': '% '}, {'CLASS_NAME': '성장률', 'KEYSTAT_NAME': '건설투자증감률(실질, 계절조정 전기대비)', 'DATA_VALUE': '-3.6', 'CYCLE': '2024Q3', 'UNIT_NAME': '% '}, {'CLASS_NAME': '성장률', 'KEYSTAT_NAME': '재화의 수출 증감률(실질, 계절조정 전기대비)', 'DATA_VALUE': '-0.3', 'CYCLE': '2024Q3', 'UNIT_NAME': '% '}, {'CLASS_NAME': '소득', 'KEYSTAT_NAME': 'GDP(명목, 계절조정)', 'DATA_VALUE': '633042.3', 'CYCLE': '2024Q3', 'UNIT_NAME': '십억원 '}, {'CLASS_NAME': '소득', 'KEYSTAT_NAME': '1인당GNI', 'DATA_VALUE': '36194', 'CYCLE': '2023', 'UNIT_NAME': '달러 '}, {'CLASS_NAME': 'GDP대비 비율', 'KEYSTAT_NAME': '총저축률', 'DATA_VALUE': '34.4', 'CYCLE': '2024Q3', 'UNIT_NAME': '% '}, {'CLASS_NAME': 'GDP대비 비율', 'KEYSTAT_NAME': '국내총투자율', 'DATA_VALUE': '29.9', 'CYCLE': '2024Q3', 'UNIT_NAME': '% '}, {'CLASS_NAME': 'GDP대비 비율', 'KEYSTAT_NAME': '수출입의 대 GNI 비율', 'DATA_VALUE': '87.3', 'CYCLE': '2023', 'UNIT_NAME': '% '}, {'CLASS_NAME': '생산', 'KEYSTAT_NAME': '전산업생산지수', 'DATA_VALUE': '112.6', 'CYCLE': '202411', 'UNIT_NAME': '2020=100'}, {'CLASS_NAME': '생산', 'KEYSTAT_NAME': '제조업생산지수', 'DATA_VALUE': '110.8', 'CYCLE': '202411', 'UNIT_NAME': '2020=100'}, {'CLASS_NAME': '생산', 'KEYSTAT_NAME': '제조업출하지수', 'DATA_VALUE': '98.9', 'CYCLE': '202411', 'UNIT_NAME': '2020=100'}, {'CLASS_NAME': '생산', 'KEYSTAT_NAME': '제조업재고지수', 'DATA_VALUE': '110.6', 'CYCLE': '202411', 'UNIT_NAME': '2020=100'}, {'CLASS_NAME': '생산', 'KEYSTAT_NAME': '제조업가동률지수', 'DATA_VALUE': '100.9', 'CYCLE': '202411', 'UNIT_NAME': '2020=100'}, {'CLASS_NAME': '생산', 'KEYSTAT_NAME': '서비스업생산지수', 'DATA_VALUE': '117.3', 'CYCLE': '202411', 'UNIT_NAME': '2020=100'}, {'CLASS_NAME': '생산', 'KEYSTAT_NAME': '도소매업생산지수', 'DATA_VALUE': '103.8', 'CYCLE': '202411', 'UNIT_NAME': '2020=100'}, {'CLASS_NAME': '소비', 'KEYSTAT_NAME': '소매판매액지수', 'DATA_VALUE': '101.3', 'CYCLE': '202411', 'UNIT_NAME': '2020=100'}, {'CLASS_NAME': '소비', 'KEYSTAT_NAME': '개인신용카드사용액', 'DATA_VALUE': '70148013', 'CYCLE': '202409', 'UNIT_NAME': '백만원 '}, {'CLASS_NAME': '소비', 'KEYSTAT_NAME': '자동차판매액지수', 'DATA_VALUE': '105', 'CYCLE': '202411', 'UNIT_NAME': '2020=100'}, {'CLASS_NAME': '투자', 'KEYSTAT_NAME': '설비투자지수', 'DATA_VALUE': '114.1', 'CYCLE': '202411', 'UNIT_NAME': '2015=100'}, {'CLASS_NAME': '투자', 'KEYSTAT_NAME': '설비용 기계류내수출하지수', 'DATA_VALUE': '101.9', 'CYCLE': '202411', 'UNIT_NAME': '2020=100'}, {'CLASS_NAME': '투자', 'KEYSTAT_NAME': '국내기계수주액', 'DATA_VALUE': '2.9', 'CYCLE': '202411', 'UNIT_NAME': '조원'}, {'CLASS_NAME': '투자', 'KEYSTAT_NAME': '건설기성액', 'DATA_VALUE': '9.1', 'CYCLE': '202411', 'UNIT_NAME': '조원'}, {'CLASS_NAME': '투자', 'KEYSTAT_NAME': '건축허가면적', 'DATA_VALUE': '9889.14', 'CYCLE': '202411', 'UNIT_NAME': '천㎡ '}, {'CLASS_NAME': '투자', 'KEYSTAT_NAME': '건설수주액', 'DATA_VALUE': '20.5', 'CYCLE': '202411', 'UNIT_NAME': '조원'}, {'CLASS_NAME': '투자', 'KEYSTAT_NAME': '건축착공면적', 'DATA_VALUE': '5675.27', 'CYCLE': '202411', 'UNIT_NAME': '천㎡ '}, {'CLASS_NAME': '경기순환지표', 'KEYSTAT_NAME': '동행지수순환변동치', 'DATA_VALUE': '97.6', 'CYCLE': '202411', 'UNIT_NAME': '2020=100'}, {'CLASS_NAME': '경기순환지표', 'KEYSTAT_NAME': '선행지수순환변동치', 'DATA_VALUE': '100.8', 'CYCLE': '202411', 'UNIT_NAME': '2020=100'}, {'CLASS_NAME': '심리지표', 'KEYSTAT_NAME': '전산업 기업심리지수실적', 'DATA_VALUE': '87', 'CYCLE': '202412', 'UNIT_NAME': None}, {'CLASS_NAME': '심리지표', 'KEYSTAT_NAME': '소비자심리지수', 'DATA_VALUE': '88.4', 'CYCLE': '202412', 'UNIT_NAME': None}, {'CLASS_NAME': '심리지표', 'KEYSTAT_NAME': '제조업업황실적BSI', 'DATA_VALUE': None, 'CYCLE': None, 'UNIT_NAME': None}, {'CLASS_NAME': '심리지표', 'KEYSTAT_NAME': '경제심리지수', 'DATA_VALUE': '83.1', 'CYCLE': '202412', 'UNIT_NAME': None}, {'CLASS_NAME': '기업경영지표', 'KEYSTAT_NAME': '제조업매출액증감률', 'DATA_VALUE': '-2.27', 'CYCLE': '2023', 'UNIT_NAME': '% '}, {'CLASS_NAME': '기업경영지표', 'KEYSTAT_NAME': '제조업매출액세전순이익률', 'DATA_VALUE': '4.81', 'CYCLE': '2023', 'UNIT_NAME': '% '}, {'CLASS_NAME': '기업경영지표', 'KEYSTAT_NAME': '제조업부채비율', 'DATA_VALUE': '75.87', 'CYCLE': '2023', 'UNIT_NAME': '% '}, {'CLASS_NAME': '가계', 'KEYSTAT_NAME': '가구당월평균소득', 'DATA_VALUE': '7256.4', 'CYCLE': '2024Q3', 'UNIT_NAME': '천원 '}, {'CLASS_NAME': '가계', 'KEYSTAT_NAME': '평균소비성향', 'DATA_VALUE': '67.9', 'CYCLE': '2024Q3', 'UNIT_NAME': '% '}, {'CLASS_NAME': '소득분배지표', 'KEYSTAT_NAME': '지니계수', 'DATA_VALUE': '0.323', 'CYCLE': '2023', 'UNIT_NAME': None}, {'CLASS_NAME': '소득분배지표', 'KEYSTAT_NAME': '5분위배율', 'DATA_VALUE': '5.72', 'CYCLE': '2023', 'UNIT_NAME': None}, {'CLASS_NAME': '고용', 'KEYSTAT_NAME': '실업률', 'DATA_VALUE': '2.2', 'CYCLE': '202411', 'UNIT_NAME': '% '}, {'CLASS_NAME': '고용', 'KEYSTAT_NAME': '고용률', 'DATA_VALUE': '63.2', 'CYCLE': '202411', 'UNIT_NAME': '% '}, {'CLASS_NAME': '고용', 'KEYSTAT_NAME': '경제활동인구', 'DATA_VALUE': '29477', 'CYCLE': '202411', 'UNIT_NAME': '천명 '}, {'CLASS_NAME': '고용', 'KEYSTAT_NAME': '취업자수', 'DATA_VALUE': '28821', 'CYCLE': '202411', 'UNIT_NAME': '천명 '}, {'CLASS_NAME': '노동', 'KEYSTAT_NAME': '시간당명목임금지수', 'DATA_VALUE': '122.4', 'CYCLE': '2024Q3', 'UNIT_NAME': '2020=100'}, {'CLASS_NAME': '노동', 'KEYSTAT_NAME': '노동생산성지수', 'DATA_VALUE': '110', 'CYCLE': '2024Q3', 'UNIT_NAME': '2020=100'}, {'CLASS_NAME': '노동', 'KEYSTAT_NAME': '단위노동비용지수', 'DATA_VALUE': '113.2', 'CYCLE': '2024Q3', 'UNIT_NAME': '2020=100'}, {'CLASS_NAME': '인구', 'KEYSTAT_NAME': '추계인구', 'DATA_VALUE': '51684.6', 'CYCLE': '2025', 'UNIT_NAME': '천명 '}, {'CLASS_NAME': '인구', 'KEYSTAT_NAME': '고령인구비율', 'DATA_VALUE': '20.3', 'CYCLE': '2025', 'UNIT_NAME': '% '}, {'CLASS_NAME': '인구', 'KEYSTAT_NAME': '합계출산율', 'DATA_VALUE': '0.721', 'CYCLE': '2023', 'UNIT_NAME': '명 '}, {'CLASS_NAME': '국제수지', 'KEYSTAT_NAME': '경상수지', 'DATA_VALUE': '9783.6', 'CYCLE': '202410', 'UNIT_NAME': '백만달러'}, {'CLASS_NAME': '국제수지', 'KEYSTAT_NAME': '직접투자(자산)', 'DATA_VALUE': '282.4', 'CYCLE': '202410', 'UNIT_NAME': '백만달러'}, {'CLASS_NAME': '국제수지', 'KEYSTAT_NAME': '직접투자(부채)', 'DATA_VALUE': '2245.2', 'CYCLE': '202410', 'UNIT_NAME': '백만달러'}, {'CLASS_NAME': '국제수지', 'KEYSTAT_NAME': '증권투자(자산)', 'DATA_VALUE': '2913', 'CYCLE': '202410', 'UNIT_NAME': '백만달러'}, {'CLASS_NAME': '국제수지', 'KEYSTAT_NAME': '증권투자(부채)', 'DATA_VALUE': '1195.8', 'CYCLE': '202410', 'UNIT_NAME': '백만달러'}, {'CLASS_NAME': '통관수출입', 'KEYSTAT_NAME': '수출금액지수', 'DATA_VALUE': '131.16', 'CYCLE': '202411', 'UNIT_NAME': '2020=100'}, {'CLASS_NAME': '통관수출입', 'KEYSTAT_NAME': '수입금액지수', 'DATA_VALUE': '129.82', 'CYCLE': '202411', 'UNIT_NAME': '2020=100'}, {'CLASS_NAME': '통관수출입', 'KEYSTAT_NAME': '순상품교역조건지수', 'DATA_VALUE': '92.88', 'CYCLE': '202411', 'UNIT_NAME': '2020=100'}, {'CLASS_NAME': '통관수출입', 'KEYSTAT_NAME': '소득교역조건지수', 'DATA_VALUE': '108.51', 'CYCLE': '202411', 'UNIT_NAME': '2020=100'}, {'CLASS_NAME': '대외채권/채무', 'KEYSTAT_NAME': '외환보유액', 'DATA_VALUE': '415391699', 'CYCLE': '202411', 'UNIT_NAME': '천달러 '}, {'CLASS_NAME': '대외채권/채무', 'KEYSTAT_NAME': '대외채무', 'DATA_VALUE': '702682.9', 'CYCLE': '2024Q3', 'UNIT_NAME': '백만달러'}, {'CLASS_NAME': '대외채권/채무', 'KEYSTAT_NAME': '대외채권', 'DATA_VALUE': '1080699.5', 'CYCLE': '2024Q3', 'UNIT_NAME': '백만달러'}, {'CLASS_NAME': '소비자/생산자 물가', 'KEYSTAT_NAME': '소비자물가지수', 'DATA_VALUE': '114.91', 'CYCLE': '202412', 'UNIT_NAME': '2020=100'}, {'CLASS_NAME': '소비자/생산자 물가', 'KEYSTAT_NAME': '농산물 및 석유류제외 소비자물가지수', 'DATA_VALUE': '113.46', 'CYCLE': '202412', 'UNIT_NAME': '2020=100'}, {'CLASS_NAME': '소비자/생산자 물가', 'KEYSTAT_NAME': '생활물가지수', 'DATA_VALUE': '117.34', 'CYCLE': '202412', 'UNIT_NAME': '2020=100'}, {'CLASS_NAME': '소비자/생산자 물가', 'KEYSTAT_NAME': '생산자물가지수', 'DATA_VALUE': '119.11', 'CYCLE': '202411', 'UNIT_NAME': '2020=100'}, {'CLASS_NAME': '수출입 물가', 'KEYSTAT_NAME': '수출물가지수', 'DATA_VALUE': '130.59', 'CYCLE': '202411', 'UNIT_NAME': '2020=100'}, {'CLASS_NAME': '수출입 물가', 'KEYSTAT_NAME': '수입물가지수', 'DATA_VALUE': '139.03', 'CYCLE': '202411', 'UNIT_NAME': '2020=100'}, {'CLASS_NAME': '부동산 가격', 'KEYSTAT_NAME': '주택매매가격지수', 'DATA_VALUE': '96.4', 'CYCLE': '202411', 'UNIT_NAME': '2021.6=100'}, {'CLASS_NAME': '부동산 가격', 'KEYSTAT_NAME': '주택전세가격지수', 'DATA_VALUE': '93.7', 'CYCLE': '202411', 'UNIT_NAME': '2021.6=100'}, {'CLASS_NAME': '부동산 가격', 'KEYSTAT_NAME': '지가변동률(전기대비)', 'DATA_VALUE': '0.196', 'CYCLE': '202410', 'UNIT_NAME': '% '}, {'CLASS_NAME': '국제원자재가격', 'KEYSTAT_NAME': 'Duba유(현물)', 'DATA_VALUE': '74.09', 'CYCLE': '202411', 'UNIT_NAME': '달러/배럴'}, {'CLASS_NAME': '국제원자재가격', 'KEYSTAT_NAME': '금', 'DATA_VALUE': '2652.2', 'CYCLE': '202411', 'UNIT_NAME': '달러 '}]}}\n"
     ]
    }
   ],
   "source": [
    "# API 호출\n",
    "response = requests.get(url)\n",
    "\n",
    "# 응답 데이터 확인\n",
    "if response.status_code == 200:\n",
    "    data = response.json()  # JSON 데이터를 Python 딕셔너리로 변환\n",
    "    print(data)\n",
    "else:\n",
    "    print(f\"Error: {response.status_code}, {response.text}\")\n"
   ]
  },
  {
   "cell_type": "code",
   "execution_count": 28,
   "metadata": {},
   "outputs": [],
   "source": [
    "keystat_df = pd.DataFrame(data['KeyStatisticList']['row'])"
   ]
  },
  {
   "cell_type": "code",
   "execution_count": 29,
   "metadata": {},
   "outputs": [
    {
     "data": {
      "text/html": [
       "<div>\n",
       "<style scoped>\n",
       "    .dataframe tbody tr th:only-of-type {\n",
       "        vertical-align: middle;\n",
       "    }\n",
       "\n",
       "    .dataframe tbody tr th {\n",
       "        vertical-align: top;\n",
       "    }\n",
       "\n",
       "    .dataframe thead th {\n",
       "        text-align: right;\n",
       "    }\n",
       "</style>\n",
       "<table border=\"1\" class=\"dataframe\">\n",
       "  <thead>\n",
       "    <tr style=\"text-align: right;\">\n",
       "      <th></th>\n",
       "      <th>CLASS_NAME</th>\n",
       "      <th>KEYSTAT_NAME</th>\n",
       "      <th>DATA_VALUE</th>\n",
       "      <th>CYCLE</th>\n",
       "      <th>UNIT_NAME</th>\n",
       "    </tr>\n",
       "  </thead>\n",
       "  <tbody>\n",
       "    <tr>\n",
       "      <th>0</th>\n",
       "      <td>시장금리</td>\n",
       "      <td>한국은행 기준금리</td>\n",
       "      <td>3</td>\n",
       "      <td>20250102</td>\n",
       "      <td>%</td>\n",
       "    </tr>\n",
       "    <tr>\n",
       "      <th>1</th>\n",
       "      <td>시장금리</td>\n",
       "      <td>콜금리(익일물)</td>\n",
       "      <td>3.029</td>\n",
       "      <td>20250102</td>\n",
       "      <td>%</td>\n",
       "    </tr>\n",
       "    <tr>\n",
       "      <th>2</th>\n",
       "      <td>시장금리</td>\n",
       "      <td>KORIBOR(3개월)</td>\n",
       "      <td>3.27</td>\n",
       "      <td>20250103</td>\n",
       "      <td>%</td>\n",
       "    </tr>\n",
       "  </tbody>\n",
       "</table>\n",
       "</div>"
      ],
      "text/plain": [
       "  CLASS_NAME  KEYSTAT_NAME DATA_VALUE     CYCLE UNIT_NAME\n",
       "0       시장금리     한국은행 기준금리          3  20250102        % \n",
       "1       시장금리      콜금리(익일물)      3.029  20250102        % \n",
       "2       시장금리  KORIBOR(3개월)       3.27  20250103        % "
      ]
     },
     "execution_count": 29,
     "metadata": {},
     "output_type": "execute_result"
    }
   ],
   "source": [
    "keystat_df.head(3)"
   ]
  },
  {
   "cell_type": "code",
   "execution_count": 32,
   "metadata": {},
   "outputs": [
    {
     "data": {
      "text/html": [
       "<div>\n",
       "<style scoped>\n",
       "    .dataframe tbody tr th:only-of-type {\n",
       "        vertical-align: middle;\n",
       "    }\n",
       "\n",
       "    .dataframe tbody tr th {\n",
       "        vertical-align: top;\n",
       "    }\n",
       "\n",
       "    .dataframe thead th {\n",
       "        text-align: right;\n",
       "    }\n",
       "</style>\n",
       "<table border=\"1\" class=\"dataframe\">\n",
       "  <thead>\n",
       "    <tr style=\"text-align: right;\">\n",
       "      <th></th>\n",
       "      <th>CLASS_NAME</th>\n",
       "      <th>KEYSTAT_NAME</th>\n",
       "      <th>DATA_VALUE</th>\n",
       "      <th>CYCLE</th>\n",
       "      <th>UNIT_NAME</th>\n",
       "    </tr>\n",
       "  </thead>\n",
       "  <tbody>\n",
       "    <tr>\n",
       "      <th>count</th>\n",
       "      <td>101</td>\n",
       "      <td>101</td>\n",
       "      <td>100</td>\n",
       "      <td>100</td>\n",
       "      <td>95</td>\n",
       "    </tr>\n",
       "    <tr>\n",
       "      <th>unique</th>\n",
       "      <td>28</td>\n",
       "      <td>101</td>\n",
       "      <td>100</td>\n",
       "      <td>9</td>\n",
       "      <td>18</td>\n",
       "    </tr>\n",
       "    <tr>\n",
       "      <th>top</th>\n",
       "      <td>시장금리</td>\n",
       "      <td>한국은행 기준금리</td>\n",
       "      <td>3</td>\n",
       "      <td>202411</td>\n",
       "      <td>%</td>\n",
       "    </tr>\n",
       "    <tr>\n",
       "      <th>freq</th>\n",
       "      <td>8</td>\n",
       "      <td>1</td>\n",
       "      <td>1</td>\n",
       "      <td>39</td>\n",
       "      <td>27</td>\n",
       "    </tr>\n",
       "  </tbody>\n",
       "</table>\n",
       "</div>"
      ],
      "text/plain": [
       "       CLASS_NAME KEYSTAT_NAME DATA_VALUE   CYCLE UNIT_NAME\n",
       "count         101          101        100     100        95\n",
       "unique         28          101        100       9        18\n",
       "top          시장금리    한국은행 기준금리          3  202411        % \n",
       "freq            8            1          1      39        27"
      ]
     },
     "execution_count": 32,
     "metadata": {},
     "output_type": "execute_result"
    }
   ],
   "source": [
    "keystat_df.describe(include='object')"
   ]
  },
  {
   "cell_type": "code",
   "execution_count": 33,
   "metadata": {},
   "outputs": [
    {
     "data": {
      "text/plain": [
       "CLASS_NAME\n",
       "시장금리          8\n",
       "생산            7\n",
       "투자            7\n",
       "국제수지          5\n",
       "성장률           5\n",
       "소비자/생산자 물가    4\n",
       "통관수출입         4\n",
       "고용            4\n",
       "심리지표          4\n",
       "주식            4\n",
       "예금/대출금        4\n",
       "통화량           4\n",
       "환율            4\n",
       "노동            3\n",
       "부동산 가격        3\n",
       "대외채권/채무       3\n",
       "인구            3\n",
       "GDP대비 비율      3\n",
       "기업경영지표        3\n",
       "소비            3\n",
       "소득            2\n",
       "소득분배지표        2\n",
       "가계            2\n",
       "여수신금리         2\n",
       "경기순환지표        2\n",
       "채권            2\n",
       "수출입 물가        2\n",
       "국제원자재가격       2\n",
       "Name: count, dtype: int64"
      ]
     },
     "execution_count": 33,
     "metadata": {},
     "output_type": "execute_result"
    }
   ],
   "source": [
    "keystat_df['CLASS_NAME'].value_counts()"
   ]
  },
  {
   "cell_type": "code",
   "execution_count": 34,
   "metadata": {},
   "outputs": [
    {
     "data": {
      "text/html": [
       "<div>\n",
       "<style scoped>\n",
       "    .dataframe tbody tr th:only-of-type {\n",
       "        vertical-align: middle;\n",
       "    }\n",
       "\n",
       "    .dataframe tbody tr th {\n",
       "        vertical-align: top;\n",
       "    }\n",
       "\n",
       "    .dataframe thead th {\n",
       "        text-align: right;\n",
       "    }\n",
       "</style>\n",
       "<table border=\"1\" class=\"dataframe\">\n",
       "  <thead>\n",
       "    <tr style=\"text-align: right;\">\n",
       "      <th></th>\n",
       "      <th>CLASS_NAME</th>\n",
       "      <th>KEYSTAT_NAME</th>\n",
       "      <th>DATA_VALUE</th>\n",
       "      <th>CYCLE</th>\n",
       "      <th>UNIT_NAME</th>\n",
       "    </tr>\n",
       "  </thead>\n",
       "  <tbody>\n",
       "    <tr>\n",
       "      <th>0</th>\n",
       "      <td>시장금리</td>\n",
       "      <td>한국은행 기준금리</td>\n",
       "      <td>3</td>\n",
       "      <td>20250102</td>\n",
       "      <td>%</td>\n",
       "    </tr>\n",
       "    <tr>\n",
       "      <th>1</th>\n",
       "      <td>시장금리</td>\n",
       "      <td>콜금리(익일물)</td>\n",
       "      <td>3.029</td>\n",
       "      <td>20250102</td>\n",
       "      <td>%</td>\n",
       "    </tr>\n",
       "    <tr>\n",
       "      <th>2</th>\n",
       "      <td>시장금리</td>\n",
       "      <td>KORIBOR(3개월)</td>\n",
       "      <td>3.27</td>\n",
       "      <td>20250103</td>\n",
       "      <td>%</td>\n",
       "    </tr>\n",
       "    <tr>\n",
       "      <th>3</th>\n",
       "      <td>시장금리</td>\n",
       "      <td>CD수익률(91일)</td>\n",
       "      <td>3.15</td>\n",
       "      <td>20250103</td>\n",
       "      <td>%</td>\n",
       "    </tr>\n",
       "    <tr>\n",
       "      <th>4</th>\n",
       "      <td>시장금리</td>\n",
       "      <td>통안증권수익률(364일)</td>\n",
       "      <td>2.646</td>\n",
       "      <td>20250103</td>\n",
       "      <td>%</td>\n",
       "    </tr>\n",
       "    <tr>\n",
       "      <th>5</th>\n",
       "      <td>시장금리</td>\n",
       "      <td>국고채수익률(3년)</td>\n",
       "      <td>2.482</td>\n",
       "      <td>20250103</td>\n",
       "      <td>%</td>\n",
       "    </tr>\n",
       "    <tr>\n",
       "      <th>6</th>\n",
       "      <td>시장금리</td>\n",
       "      <td>국고채수익률(5년)</td>\n",
       "      <td>2.643</td>\n",
       "      <td>20250103</td>\n",
       "      <td>%</td>\n",
       "    </tr>\n",
       "    <tr>\n",
       "      <th>7</th>\n",
       "      <td>시장금리</td>\n",
       "      <td>회사채수익률(3년,AA-)</td>\n",
       "      <td>3.17</td>\n",
       "      <td>20250103</td>\n",
       "      <td>%</td>\n",
       "    </tr>\n",
       "  </tbody>\n",
       "</table>\n",
       "</div>"
      ],
      "text/plain": [
       "  CLASS_NAME    KEYSTAT_NAME DATA_VALUE     CYCLE UNIT_NAME\n",
       "0       시장금리       한국은행 기준금리          3  20250102        % \n",
       "1       시장금리        콜금리(익일물)      3.029  20250102        % \n",
       "2       시장금리    KORIBOR(3개월)       3.27  20250103        % \n",
       "3       시장금리      CD수익률(91일)       3.15  20250103        % \n",
       "4       시장금리   통안증권수익률(364일)      2.646  20250103        % \n",
       "5       시장금리      국고채수익률(3년)      2.482  20250103        % \n",
       "6       시장금리      국고채수익률(5년)      2.643  20250103        % \n",
       "7       시장금리  회사채수익률(3년,AA-)       3.17  20250103        % "
      ]
     },
     "execution_count": 34,
     "metadata": {},
     "output_type": "execute_result"
    }
   ],
   "source": [
    "keystat_df[keystat_df['CLASS_NAME']=='시장금리']\n"
   ]
  },
  {
   "cell_type": "code",
   "execution_count": 35,
   "metadata": {},
   "outputs": [],
   "source": [
    "keystat_df.to_csv('keystat.csv')"
   ]
  },
  {
   "cell_type": "code",
   "execution_count": 37,
   "metadata": {},
   "outputs": [],
   "source": [
    "# 경제성장률\n",
    "# 소비자물가지수\n",
    "# 실업률\n",
    "# 환율\n",
    "# M2 (통화량)\n",
    "# 국고채 수익률 (5년)\n",
    "# 경상수지\n",
    "# 코스피지수\n",
    "# 수출금액지수\n",
    "# 주택매매가격지수\n",
    "# 자동차판매액지수\n",
    "# 건설수주액\n",
    "# 소비자심리지수\n",
    "# "
   ]
  },
  {
   "cell_type": "code",
   "execution_count": null,
   "metadata": {},
   "outputs": [],
   "source": []
  }
 ],
 "metadata": {
  "kernelspec": {
   "display_name": "pytorch",
   "language": "python",
   "name": "python3"
  },
  "language_info": {
   "codemirror_mode": {
    "name": "ipython",
    "version": 3
   },
   "file_extension": ".py",
   "mimetype": "text/x-python",
   "name": "python",
   "nbconvert_exporter": "python",
   "pygments_lexer": "ipython3",
   "version": "3.11.4"
  }
 },
 "nbformat": 4,
 "nbformat_minor": 2
}
